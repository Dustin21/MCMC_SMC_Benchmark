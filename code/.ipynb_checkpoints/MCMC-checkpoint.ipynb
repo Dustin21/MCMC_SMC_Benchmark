{
 "metadata": {
  "language": "Julia",
  "name": "",
  "signature": "sha256:ad08923e059db92266e97291037f0d38b2c7a5ba4f07d2c4dd14d9381c8566ac"
 },
 "nbformat": 3,
 "nbformat_minor": 0,
 "worksheets": [
  {
   "cells": [
    {
     "cell_type": "markdown",
     "metadata": {},
     "source": [
      "## Super Simple MCMC\n",
      "\n",
      "Translation of [this example](http://nbviewer.ipython.org/github/AM207/2015/blob/master/Lectures/Lecture06_07_Bayesian_Formalism_Part_2_and_MCMC_Slides.ipynb) from python to Julia with minor modifications to make it a function."
     ]
    },
    {
     "cell_type": "code",
     "collapsed": false,
     "input": [
      "using Distributions: Normal, Uniform\n",
      "using PyPlot"
     ],
     "language": "python",
     "metadata": {},
     "outputs": [
      {
       "output_type": "stream",
       "stream": "stderr",
       "text": [
        "INFO: Loading help data...\n"
       ]
      }
     ],
     "prompt_number": 2
    },
    {
     "cell_type": "code",
     "collapsed": false,
     "input": [
      "function mcmc(p::Function; sig = 0.6, n = 20000, stype = Float64)\n",
      "    #intitialize the sampling. Start somewhere from 0..1\n",
      "    x0 = rand()\n",
      "\n",
      "    x_prev = x0\n",
      "\n",
      "    x = Float64[] # to save our samples\n",
      "    for i = 1:n\n",
      "        # sample new state candidate from proposal distribution\n",
      "        x_star = rand(Normal(x_prev,sig))\n",
      "\n",
      "        P_star = p(x_star)\n",
      "        P_prev = p(x_prev)\n",
      "        U =  rand(Uniform(0,1))\n",
      "\n",
      "        # A is simple because our transition probability is symmetric (Metropolis only)\n",
      "        A =  P_star/P_prev # did we go up or down? \n",
      "\n",
      "        if U < A #coin flip to see if we accept\n",
      "            x_prev = x_star \n",
      "        end\n",
      "        \n",
      "        push!(x, x_prev)\n",
      "    end\n",
      "    return x \n",
      "end"
     ],
     "language": "python",
     "metadata": {},
     "outputs": [
      {
       "metadata": {},
       "output_type": "pyout",
       "prompt_number": 69,
       "text": [
        "mcmc (generic function with 2 methods)"
       ]
      }
     ],
     "prompt_number": 69
    },
    {
     "cell_type": "code",
     "collapsed": false,
     "input": [
      "# target distribution p(x)\n",
      "p(x) = 6*x*(1-x)\n",
      "@time x = mcmc(p, n = 20000, stype = Float32);"
     ],
     "language": "python",
     "metadata": {},
     "outputs": [
      {
       "output_type": "stream",
       "stream": "stdout",
       "text": [
        "elapsed time: 0."
       ]
      },
      {
       "output_type": "stream",
       "stream": "stdout",
       "text": [
        "034808656 seconds (2896992 bytes allocated)\n"
       ]
      }
     ],
     "prompt_number": 70
    },
    {
     "cell_type": "code",
     "collapsed": false,
     "input": [
      "plt.hist(x,100, alpha=0.4, normed=true, label=\"MCMC distribution\");"
     ],
     "language": "python",
     "metadata": {},
     "outputs": [
      {
       "metadata": {},
       "output_type": "display_data",
       "png": "[encoded data removed]",
       "text": [
        "Figure(PyObject <matplotlib.figure.Figure object at 0x1161370d0>)"
       ]
      }
     ],
     "prompt_number": 81
    },
    {
     "cell_type": "markdown",
     "metadata": {},
     "source": [
      "## Work in progress\n",
      "\n",
      "Implementing [this](http://nbviewer.ipython.org/github/AM207/2015/blob/master/Lectures/Lecture07_08_More_MCMC_Slides.ipynb) - a slightly more advanced version of MCMC...\n",
      "\n",
      "Still needs work"
     ]
    },
    {
     "cell_type": "code",
     "collapsed": false,
     "input": [
      "function metropolis(n_iterations, initial_values, calc_posterior, prop_std=[1,1], doPrint=True):\n",
      "    #################################################################\n",
      "    # function to sample using Metropolis \n",
      "    # (assumes proposal distribution is symmetric)\n",
      "    # \n",
      "    # n_iterations:  number of iterations\n",
      "    # initial_values: multidimensional start position for our chain\n",
      "    # prop_std: standard deviation for Gaussian proposal distribution \n",
      "    ##################################################################\n",
      "    n_params = length(initial_values)\n",
      "    \n",
      "    # Initialize trace for parameters\n",
      "    trace = np.empty((n_iterations+1, n_params))\n",
      "    \n",
      "    # Set initial values\n",
      "    trace = initial_values\n",
      "        \n",
      "    # Calculate joint posterior for initial values\n",
      "    # the * assigns the arguments of the function according to the list elements\n",
      "    current_prob = calc_posterior(*trace[0])\n",
      "\n",
      "    accepted = zeros(Int32, size(initial_values)) # Initialize acceptance counts\n",
      "    \n",
      "    for i = 1:n_iterations\n",
      "        current_params = trace[i]\n",
      "    \n",
      "        # Get current value for parameter j\n",
      "        # p = trace[i].copy() \n",
      "        \n",
      "        # loop over all dimensions\n",
      "        for j = 1:n_params\n",
      "            # proposed new value\n",
      "            q = rnorm(current_params[j], prop_sd[j])\n",
      "            \n",
      "            # Insert new value \n",
      "            p[j] = theta\n",
      "    \n",
      "            # Calculate posterior with proposed value\n",
      "            proposed_prob = calc_posterior(*p)\n",
      "    \n",
      "            # Log-acceptance rate\n",
      "            alpha = proposed_prob/current_prob\n",
      "    \n",
      "            # Sample a uniform random variate\n",
      "            u = runif()\n",
      "            if (u) < alpha:\n",
      "                # Accept\n",
      "                trace[i+1,j] = theta\n",
      "                current_prob = proposed_prob\n",
      "                accepted[j] += 1\n",
      "            else:\n",
      "                # Stay put\n",
      "                trace[i+1,j] = trace[i,j]\n",
      "            \n",
      "            # update p so we search the next dimension according\n",
      "            # to the current result\n",
      "            p[j] = trace[i+1,j]\n",
      "    \n",
      "    # return our samples and the number of accepted steps\n",
      "    return trace, accepted\n",
      "end"
     ],
     "language": "python",
     "metadata": {},
     "outputs": [],
     "prompt_number": 61
    },
    {
     "cell_type": "code",
     "collapsed": false,
     "input": [],
     "language": "python",
     "metadata": {},
     "outputs": []
    }
   ],
   "metadata": {}
  }
 ]
}